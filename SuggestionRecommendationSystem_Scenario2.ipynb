{
  "nbformat": 4,
  "nbformat_minor": 0,
  "metadata": {
    "colab": {
      "provenance": []
    },
    "kernelspec": {
      "name": "python3",
      "display_name": "Python 3"
    }
  },
  "cells": [
    {
      "cell_type": "code",
      "metadata": {
        "id": "sqjppfErLf9Q",
        "colab": {
          "base_uri": "https://localhost:8080/",
          "height": 68
        },
        "outputId": "e82d4bec-c8a1-4b91-b543-e87ca270ac4c"
      },
      "source": [
        "import pandas as pd\n",
        "import numpy as np\n",
        "import os\n",
        "from gensim.models.word2vec import Word2Vec\n",
        "import nltk\n",
        "from nltk.stem import WordNetLemmatizer\n",
        "from nltk.tokenize import\n",
        "nltk.download('wordnet')\n",
        "\n",
        "# os.chdir('/content/drive/My Drive/OEM/Final datasets')"
      ],
      "execution_count": null,
      "outputs": [
        {
          "output_type": "stream",
          "text": [
            "[nltk_data] Downloading package wordnet to /root/nltk_data...\n",
            "[nltk_data]   Unzipping corpora/wordnet.zip.\n"
          ],
          "name": "stdout"
        },
        {
          "output_type": "execute_result",
          "data": {
            "text/plain": [
              "True"
            ]
          },
          "metadata": {
            "tags": []
          },
          "execution_count": 1
        }
      ]
    },
    {
      "cell_type": "code",
      "metadata": {
        "id": "VrnhCnEPQAfk",
        "colab": {
          "base_uri": "https://localhost:8080/",
          "height": 568
        },
        "outputId": "ffe63fbb-47d1-4c2c-b077-b79b176f39b0"
      },
      "source": [
        "scenario2_df = pd.read_csv('model2inputs.csv')\n",
        "scenario2_df.drop(['Unnamed: 0', 'Unnamed: 0.1', 'Unnamed: 0.1.1'], axis=1, inplace=True, errors='ignore')\n",
        "scenario2_df.head()"
      ],
      "execution_count": null,
      "outputs": [
        {
          "output_type": "execute_result",
          "data": {
            "text/html": [
              "<div>\n",
              "<style scoped>\n",
              "    .dataframe tbody tr th:only-of-type {\n",
              "        vertical-align: middle;\n",
              "    }\n",
              "\n",
              "    .dataframe tbody tr th {\n",
              "        vertical-align: top;\n",
              "    }\n",
              "\n",
              "    .dataframe thead th {\n",
              "        text-align: right;\n",
              "    }\n",
              "</style>\n",
              "<table border=\"1\" class=\"dataframe\">\n",
              "  <thead>\n",
              "    <tr style=\"text-align: right;\">\n",
              "      <th></th>\n",
              "      <th>mdr_text.mdr_text_key</th>\n",
              "      <th>mdr_text.text_type_code</th>\n",
              "      <th>mdr_text.text</th>\n",
              "      <th>device.manufacturer_d_state</th>\n",
              "      <th>device.lot_number</th>\n",
              "      <th>device.manufacturer_d_postal_code</th>\n",
              "      <th>device.model_number</th>\n",
              "      <th>device.date_received</th>\n",
              "      <th>device.device_report_product_code</th>\n",
              "      <th>device.device_availability</th>\n",
              "      <th>device.generic_name</th>\n",
              "      <th>device.manufacturer_d_name</th>\n",
              "      <th>device.manufacturer_d_country</th>\n",
              "      <th>device.brand_name</th>\n",
              "      <th>device.device_age_text</th>\n",
              "      <th>device.catalog_number</th>\n",
              "      <th>device.date_returned_to_manufacturer</th>\n",
              "      <th>device.expiration_date_of_device</th>\n",
              "      <th>event_type</th>\n",
              "      <th>report_number</th>\n",
              "      <th>type_of_report</th>\n",
              "      <th>product_problem_flag</th>\n",
              "      <th>date_received</th>\n",
              "      <th>reprocessed_and_reused_flag</th>\n",
              "      <th>previous_use_code</th>\n",
              "      <th>mdr_report_key</th>\n",
              "      <th>report_source_code</th>\n",
              "      <th>device_date_of_manufacturer</th>\n",
              "      <th>single_use_flag</th>\n",
              "      <th>remedial_action</th>\n",
              "      <th>distributor_name</th>\n",
              "      <th>product_problems</th>\n",
              "      <th>manufacturer_link_flag</th>\n",
              "      <th>report_to_manufacturer</th>\n",
              "      <th>date_report_to_manufacturer</th>\n",
              "      <th>device.openfda.device_name</th>\n",
              "      <th>device.openfda.fei_number</th>\n",
              "      <th>device.openfda.device_class</th>\n",
              "      <th>device.openfda.medical_specialty_description</th>\n",
              "      <th>op_flag</th>\n",
              "    </tr>\n",
              "  </thead>\n",
              "  <tbody>\n",
              "    <tr>\n",
              "      <th>0</th>\n",
              "      <td>8094441</td>\n",
              "      <td>Additional Manufacturer Narrative</td>\n",
              "      <td>THIS IS AN INITIAL REPORT. AN INVESTIGATION IS...</td>\n",
              "      <td>CA</td>\n",
              "      <td>NaN</td>\n",
              "      <td>95054</td>\n",
              "      <td>NaN</td>\n",
              "      <td>20080220</td>\n",
              "      <td>GKZ</td>\n",
              "      <td>Yes</td>\n",
              "      <td>AUTOMATED HEMATOLOGY ANALYZER</td>\n",
              "      <td>ABBOTT DIAGNOSTICS DIVISION/CELLDYN</td>\n",
              "      <td>US</td>\n",
              "      <td>CELL-DYN SAPPHIRE ANALYZER</td>\n",
              "      <td>DA</td>\n",
              "      <td>8H00-01</td>\n",
              "      <td>NaN</td>\n",
              "      <td>NaN</td>\n",
              "      <td>Malfunction</td>\n",
              "      <td>2919069-2008-00381</td>\n",
              "      <td>['Initial submission', 'Followup']</td>\n",
              "      <td>Y</td>\n",
              "      <td>20080220</td>\n",
              "      <td>N</td>\n",
              "      <td>U</td>\n",
              "      <td>1000000</td>\n",
              "      <td>Manufacturer report</td>\n",
              "      <td>NaN</td>\n",
              "      <td>N</td>\n",
              "      <td>['Replace']</td>\n",
              "      <td>NaN</td>\n",
              "      <td>['Syringe, defective', 'Device Displays Incorr...</td>\n",
              "      <td>Y</td>\n",
              "      <td>NaN</td>\n",
              "      <td>NaN</td>\n",
              "      <td>Counter, Differential Cell</td>\n",
              "      <td>['2919069']</td>\n",
              "      <td>2</td>\n",
              "      <td>Hematology</td>\n",
              "      <td>1</td>\n",
              "    </tr>\n",
              "    <tr>\n",
              "      <th>1</th>\n",
              "      <td>8303917</td>\n",
              "      <td>Additional Manufacturer Narrative</td>\n",
              "      <td>(B)(4). CONCOMITANT MEDICAL PRODUCTS: CELL-DYN...</td>\n",
              "      <td>CA</td>\n",
              "      <td>NaN</td>\n",
              "      <td>95054</td>\n",
              "      <td>NaN</td>\n",
              "      <td>20080220</td>\n",
              "      <td>GKZ</td>\n",
              "      <td>Yes</td>\n",
              "      <td>AUTOMATED HEMATOLOGY ANALYZER</td>\n",
              "      <td>ABBOTT DIAGNOSTICS DIVISION/CELLDYN</td>\n",
              "      <td>US</td>\n",
              "      <td>CELL-DYN SAPPHIRE ANALYZER</td>\n",
              "      <td>DA</td>\n",
              "      <td>8H00-01</td>\n",
              "      <td>NaN</td>\n",
              "      <td>NaN</td>\n",
              "      <td>Malfunction</td>\n",
              "      <td>2919069-2008-00381</td>\n",
              "      <td>['Initial submission', 'Followup']</td>\n",
              "      <td>Y</td>\n",
              "      <td>20080220</td>\n",
              "      <td>N</td>\n",
              "      <td>U</td>\n",
              "      <td>1000000</td>\n",
              "      <td>Manufacturer report</td>\n",
              "      <td>NaN</td>\n",
              "      <td>N</td>\n",
              "      <td>['Replace']</td>\n",
              "      <td>NaN</td>\n",
              "      <td>['Syringe, defective', 'Device Displays Incorr...</td>\n",
              "      <td>Y</td>\n",
              "      <td>NaN</td>\n",
              "      <td>NaN</td>\n",
              "      <td>Counter, Differential Cell</td>\n",
              "      <td>['2919069']</td>\n",
              "      <td>2</td>\n",
              "      <td>Hematology</td>\n",
              "      <td>1</td>\n",
              "    </tr>\n",
              "    <tr>\n",
              "      <th>2</th>\n",
              "      <td>788224</td>\n",
              "      <td>Description of Event or Problem</td>\n",
              "      <td>THE CUSTOMER CONTACTED ABBOTT REGARDING HEMOGL...</td>\n",
              "      <td>CA</td>\n",
              "      <td>NaN</td>\n",
              "      <td>95054</td>\n",
              "      <td>NaN</td>\n",
              "      <td>20080220</td>\n",
              "      <td>GKZ</td>\n",
              "      <td>Yes</td>\n",
              "      <td>AUTOMATED HEMATOLOGY ANALYZER</td>\n",
              "      <td>ABBOTT DIAGNOSTICS DIVISION/CELLDYN</td>\n",
              "      <td>US</td>\n",
              "      <td>CELL-DYN SAPPHIRE ANALYZER</td>\n",
              "      <td>DA</td>\n",
              "      <td>8H00-01</td>\n",
              "      <td>NaN</td>\n",
              "      <td>NaN</td>\n",
              "      <td>Malfunction</td>\n",
              "      <td>2919069-2008-00381</td>\n",
              "      <td>['Initial submission', 'Followup']</td>\n",
              "      <td>Y</td>\n",
              "      <td>20080220</td>\n",
              "      <td>N</td>\n",
              "      <td>U</td>\n",
              "      <td>1000000</td>\n",
              "      <td>Manufacturer report</td>\n",
              "      <td>NaN</td>\n",
              "      <td>N</td>\n",
              "      <td>['Replace']</td>\n",
              "      <td>NaN</td>\n",
              "      <td>['Syringe, defective', 'Device Displays Incorr...</td>\n",
              "      <td>Y</td>\n",
              "      <td>NaN</td>\n",
              "      <td>NaN</td>\n",
              "      <td>Counter, Differential Cell</td>\n",
              "      <td>['2919069']</td>\n",
              "      <td>2</td>\n",
              "      <td>Hematology</td>\n",
              "      <td>1</td>\n",
              "    </tr>\n",
              "    <tr>\n",
              "      <th>3</th>\n",
              "      <td>189010215</td>\n",
              "      <td>Additional Manufacturer Narrative</td>\n",
              "      <td>THE INSULIN PUMP WAS RECEIVED WITH A CRACKED C...</td>\n",
              "      <td>NaN</td>\n",
              "      <td>HG2UREC</td>\n",
              "      <td>00777-3869</td>\n",
              "      <td>MMT-1715K</td>\n",
              "      <td>20200427</td>\n",
              "      <td>OZO</td>\n",
              "      <td>Device was returned to manufacturer</td>\n",
              "      <td>ARTIFICIAL PANCREAS DEVICE SYSTEM, THRESHOLD S...</td>\n",
              "      <td>MEDTRONIC PUERTO RICO OPERATIONS CO.</td>\n",
              "      <td>*</td>\n",
              "      <td>630G INSULIN PUMP MMT-1715K 630G BLACK MG</td>\n",
              "      <td>NaN</td>\n",
              "      <td>MMT-1715K</td>\n",
              "      <td>20200319.0</td>\n",
              "      <td>NaN</td>\n",
              "      <td>Malfunction</td>\n",
              "      <td>2032227-2020-110169</td>\n",
              "      <td>['Initial submission']</td>\n",
              "      <td>Y</td>\n",
              "      <td>20200427</td>\n",
              "      <td>N</td>\n",
              "      <td>U</td>\n",
              "      <td>10000000</td>\n",
              "      <td>Manufacturer report</td>\n",
              "      <td>20180927.0</td>\n",
              "      <td>N</td>\n",
              "      <td>['']</td>\n",
              "      <td>NaN</td>\n",
              "      <td>['No Apparent Adverse Event', None]</td>\n",
              "      <td>Y</td>\n",
              "      <td>NaN</td>\n",
              "      <td>NaN</td>\n",
              "      <td>Automated Insulin Dosing , Threshold Suspend</td>\n",
              "      <td>['3003166194']</td>\n",
              "      <td>3</td>\n",
              "      <td>Unknown</td>\n",
              "      <td>0</td>\n",
              "    </tr>\n",
              "    <tr>\n",
              "      <th>4</th>\n",
              "      <td>189010216</td>\n",
              "      <td>Description of Event or Problem</td>\n",
              "      <td>INFORMATION RECEIVED BY MEDTRONIC INDICATED TH...</td>\n",
              "      <td>NaN</td>\n",
              "      <td>HG2UREC</td>\n",
              "      <td>00777-3869</td>\n",
              "      <td>MMT-1715K</td>\n",
              "      <td>20200427</td>\n",
              "      <td>OZO</td>\n",
              "      <td>Device was returned to manufacturer</td>\n",
              "      <td>ARTIFICIAL PANCREAS DEVICE SYSTEM, THRESHOLD S...</td>\n",
              "      <td>MEDTRONIC PUERTO RICO OPERATIONS CO.</td>\n",
              "      <td>*</td>\n",
              "      <td>630G INSULIN PUMP MMT-1715K 630G BLACK MG</td>\n",
              "      <td>NaN</td>\n",
              "      <td>MMT-1715K</td>\n",
              "      <td>20200319.0</td>\n",
              "      <td>NaN</td>\n",
              "      <td>Malfunction</td>\n",
              "      <td>2032227-2020-110169</td>\n",
              "      <td>['Initial submission']</td>\n",
              "      <td>Y</td>\n",
              "      <td>20200427</td>\n",
              "      <td>N</td>\n",
              "      <td>U</td>\n",
              "      <td>10000000</td>\n",
              "      <td>Manufacturer report</td>\n",
              "      <td>20180927.0</td>\n",
              "      <td>N</td>\n",
              "      <td>['']</td>\n",
              "      <td>NaN</td>\n",
              "      <td>['No Apparent Adverse Event', None]</td>\n",
              "      <td>Y</td>\n",
              "      <td>NaN</td>\n",
              "      <td>NaN</td>\n",
              "      <td>Automated Insulin Dosing , Threshold Suspend</td>\n",
              "      <td>['3003166194']</td>\n",
              "      <td>3</td>\n",
              "      <td>Unknown</td>\n",
              "      <td>0</td>\n",
              "    </tr>\n",
              "  </tbody>\n",
              "</table>\n",
              "</div>"
            ],
            "text/plain": [
              "   mdr_text.mdr_text_key  ... op_flag\n",
              "0                8094441  ...       1\n",
              "1                8303917  ...       1\n",
              "2                 788224  ...       1\n",
              "3              189010215  ...       0\n",
              "4              189010216  ...       0\n",
              "\n",
              "[5 rows x 40 columns]"
            ]
          },
          "metadata": {
            "tags": []
          },
          "execution_count": 17
        }
      ]
    },
    {
      "cell_type": "code",
      "metadata": {
        "id": "8fXvSn5E1JmN",
        "colab": {
          "base_uri": "https://localhost:8080/",
          "height": 706
        },
        "outputId": "9c8027ae-6488-4457-f289-5275f59c0522"
      },
      "source": [
        "scenario2_df.isna().sum()"
      ],
      "execution_count": null,
      "outputs": [
        {
          "output_type": "execute_result",
          "data": {
            "text/plain": [
              "mdr_text.mdr_text_key                               0\n",
              "mdr_text.text_type_code                             0\n",
              "mdr_text.text                                       6\n",
              "device.manufacturer_d_state                      4690\n",
              "device.lot_number                                7523\n",
              "device.manufacturer_d_postal_code                2076\n",
              "device.model_number                              3130\n",
              "device.date_received                                0\n",
              "device.device_report_product_code                   0\n",
              "device.device_availability                         16\n",
              "device.generic_name                               234\n",
              "device.manufacturer_d_name                         15\n",
              "device.manufacturer_d_country                    2033\n",
              "device.brand_name                                  28\n",
              "device.device_age_text                          10136\n",
              "device.catalog_number                            1128\n",
              "device.date_returned_to_manufacturer            10884\n",
              "device.expiration_date_of_device                15655\n",
              "event_type                                          0\n",
              "report_number                                       0\n",
              "type_of_report                                      0\n",
              "product_problem_flag                                0\n",
              "date_received                                       0\n",
              "reprocessed_and_reused_flag                        18\n",
              "previous_use_code                                 115\n",
              "mdr_report_key                                      0\n",
              "report_source_code                                  0\n",
              "device_date_of_manufacturer                      4371\n",
              "single_use_flag                                   122\n",
              "remedial_action                                     0\n",
              "distributor_name                                17431\n",
              "product_problems                                 1474\n",
              "manufacturer_link_flag                              0\n",
              "report_to_manufacturer                          17431\n",
              "date_report_to_manufacturer                     17264\n",
              "device.openfda.device_name                         12\n",
              "device.openfda.fei_number                       10678\n",
              "device.openfda.device_class                        12\n",
              "device.openfda.medical_specialty_description       12\n",
              "op_flag                                             0\n",
              "dtype: int64"
            ]
          },
          "metadata": {
            "tags": []
          },
          "execution_count": 18
        }
      ]
    },
    {
      "cell_type": "code",
      "metadata": {
        "id": "HfP2FuHEShBT"
      },
      "source": [
        "recomm_df['op_flag'] = recomm_df['device_date_returned_to_manufacturer'].notna().astype(int)"
      ],
      "execution_count": null,
      "outputs": []
    },
    {
      "cell_type": "code",
      "metadata": {
        "id": "M72a5EQ0QK_f",
        "colab": {
          "base_uri": "https://localhost:8080/",
          "height": 690
        },
        "outputId": "af2b8737-02cc-4fdf-8344-2d4d1dfeca22"
      },
      "source": [
        "scenario2_input_data = scenario2_input_data[['device_device_report_product_code', 'device_brand_name', 'distributor_name', 'device_manufacturer_d_name', 'device_catalog_number', 'device_openfda.medical_specialty_description', 'device_model_number', 'device_generic_name', 'op_flag']]"
      ],
      "execution_count": null,
      "outputs": [
        {
          "output_type": "error",
          "ename": "KeyError",
          "evalue": "ignored",
          "traceback": [
            "\u001b[0;31m---------------------------------------------------------------------------\u001b[0m",
            "\u001b[0;31mKeyError\u001b[0m                                  Traceback (most recent call last)",
            "\u001b[0;32m/usr/local/lib/python3.6/dist-packages/pandas/core/indexes/base.py\u001b[0m in \u001b[0;36mget_loc\u001b[0;34m(self, key, method, tolerance)\u001b[0m\n\u001b[1;32m   2645\u001b[0m             \u001b[0;32mtry\u001b[0m\u001b[0;34m:\u001b[0m\u001b[0;34m\u001b[0m\u001b[0;34m\u001b[0m\u001b[0m\n\u001b[0;32m-> 2646\u001b[0;31m                 \u001b[0;32mreturn\u001b[0m \u001b[0mself\u001b[0m\u001b[0;34m.\u001b[0m\u001b[0m_engine\u001b[0m\u001b[0;34m.\u001b[0m\u001b[0mget_loc\u001b[0m\u001b[0;34m(\u001b[0m\u001b[0mkey\u001b[0m\u001b[0;34m)\u001b[0m\u001b[0;34m\u001b[0m\u001b[0;34m\u001b[0m\u001b[0m\n\u001b[0m\u001b[1;32m   2647\u001b[0m             \u001b[0;32mexcept\u001b[0m \u001b[0mKeyError\u001b[0m\u001b[0;34m:\u001b[0m\u001b[0;34m\u001b[0m\u001b[0;34m\u001b[0m\u001b[0m\n",
            "\u001b[0;32mpandas/_libs/index.pyx\u001b[0m in \u001b[0;36mpandas._libs.index.IndexEngine.get_loc\u001b[0;34m()\u001b[0m\n",
            "\u001b[0;32mpandas/_libs/index.pyx\u001b[0m in \u001b[0;36mpandas._libs.index.IndexEngine.get_loc\u001b[0;34m()\u001b[0m\n",
            "\u001b[0;32mpandas/_libs/hashtable_class_helper.pxi\u001b[0m in \u001b[0;36mpandas._libs.hashtable.PyObjectHashTable.get_item\u001b[0;34m()\u001b[0m\n",
            "\u001b[0;32mpandas/_libs/hashtable_class_helper.pxi\u001b[0m in \u001b[0;36mpandas._libs.hashtable.PyObjectHashTable.get_item\u001b[0;34m()\u001b[0m\n",
            "\u001b[0;31mKeyError\u001b[0m: 'BRAND_NAME'",
            "\nDuring handling of the above exception, another exception occurred:\n",
            "\u001b[0;31mKeyError\u001b[0m                                  Traceback (most recent call last)",
            "\u001b[0;32m<ipython-input-12-eca562db28db>\u001b[0m in \u001b[0;36m<module>\u001b[0;34m()\u001b[0m\n\u001b[0;32m----> 1\u001b[0;31m \u001b[0mrecomm_df\u001b[0m\u001b[0;34m[\u001b[0m\u001b[0;34m'KEY_DEVICE_DATA'\u001b[0m\u001b[0;34m]\u001b[0m \u001b[0;34m=\u001b[0m \u001b[0mrecomm_df\u001b[0m\u001b[0;34m[\u001b[0m\u001b[0;34m'BRAND_NAME'\u001b[0m\u001b[0;34m]\u001b[0m \u001b[0;34m+\u001b[0m \u001b[0;34m' '\u001b[0m \u001b[0;34m+\u001b[0m \u001b[0mrecomm_df\u001b[0m\u001b[0;34m[\u001b[0m\u001b[0;34m'GENERIC_NAME'\u001b[0m\u001b[0;34m]\u001b[0m \u001b[0;34m+\u001b[0m \u001b[0;34m' '\u001b[0m \u001b[0;34m+\u001b[0m \u001b[0mrecomm_df\u001b[0m\u001b[0;34m[\u001b[0m\u001b[0;34m'MODEL_NUMBER'\u001b[0m\u001b[0;34m]\u001b[0m \u001b[0;34m+\u001b[0m \u001b[0;34m' '\u001b[0m \u001b[0;34m+\u001b[0m \u001b[0mrecomm_df\u001b[0m\u001b[0;34m[\u001b[0m\u001b[0;34m'CATALOG_NUMBER'\u001b[0m\u001b[0;34m]\u001b[0m \u001b[0;34m+\u001b[0m \u001b[0;34m' '\u001b[0m \u001b[0;34m+\u001b[0m \u001b[0mrecomm_df\u001b[0m\u001b[0;34m[\u001b[0m\u001b[0;34m'deviceDescription'\u001b[0m\u001b[0;34m]\u001b[0m \u001b[0;34m+\u001b[0m \u001b[0;34m' '\u001b[0m \u001b[0;34m+\u001b[0m \u001b[0mrecomm_df\u001b[0m\u001b[0;34m[\u001b[0m\u001b[0;34m'openfda.device_name'\u001b[0m\u001b[0;34m]\u001b[0m \u001b[0;34m+\u001b[0m \u001b[0;34m' '\u001b[0m \u001b[0;34m+\u001b[0m \u001b[0mrecomm_df\u001b[0m\u001b[0;34m[\u001b[0m\u001b[0;34m'MANUFACTURER_D_NAME'\u001b[0m\u001b[0;34m]\u001b[0m\u001b[0;34m\u001b[0m\u001b[0;34m\u001b[0m\u001b[0m\n\u001b[0m",
            "\u001b[0;32m/usr/local/lib/python3.6/dist-packages/pandas/core/frame.py\u001b[0m in \u001b[0;36m__getitem__\u001b[0;34m(self, key)\u001b[0m\n\u001b[1;32m   2798\u001b[0m             \u001b[0;32mif\u001b[0m \u001b[0mself\u001b[0m\u001b[0;34m.\u001b[0m\u001b[0mcolumns\u001b[0m\u001b[0;34m.\u001b[0m\u001b[0mnlevels\u001b[0m \u001b[0;34m>\u001b[0m \u001b[0;36m1\u001b[0m\u001b[0;34m:\u001b[0m\u001b[0;34m\u001b[0m\u001b[0;34m\u001b[0m\u001b[0m\n\u001b[1;32m   2799\u001b[0m                 \u001b[0;32mreturn\u001b[0m \u001b[0mself\u001b[0m\u001b[0;34m.\u001b[0m\u001b[0m_getitem_multilevel\u001b[0m\u001b[0;34m(\u001b[0m\u001b[0mkey\u001b[0m\u001b[0;34m)\u001b[0m\u001b[0;34m\u001b[0m\u001b[0;34m\u001b[0m\u001b[0m\n\u001b[0;32m-> 2800\u001b[0;31m             \u001b[0mindexer\u001b[0m \u001b[0;34m=\u001b[0m \u001b[0mself\u001b[0m\u001b[0;34m.\u001b[0m\u001b[0mcolumns\u001b[0m\u001b[0;34m.\u001b[0m\u001b[0mget_loc\u001b[0m\u001b[0;34m(\u001b[0m\u001b[0mkey\u001b[0m\u001b[0;34m)\u001b[0m\u001b[0;34m\u001b[0m\u001b[0;34m\u001b[0m\u001b[0m\n\u001b[0m\u001b[1;32m   2801\u001b[0m             \u001b[0;32mif\u001b[0m \u001b[0mis_integer\u001b[0m\u001b[0;34m(\u001b[0m\u001b[0mindexer\u001b[0m\u001b[0;34m)\u001b[0m\u001b[0;34m:\u001b[0m\u001b[0;34m\u001b[0m\u001b[0;34m\u001b[0m\u001b[0m\n\u001b[1;32m   2802\u001b[0m                 \u001b[0mindexer\u001b[0m \u001b[0;34m=\u001b[0m \u001b[0;34m[\u001b[0m\u001b[0mindexer\u001b[0m\u001b[0;34m]\u001b[0m\u001b[0;34m\u001b[0m\u001b[0;34m\u001b[0m\u001b[0m\n",
            "\u001b[0;32m/usr/local/lib/python3.6/dist-packages/pandas/core/indexes/base.py\u001b[0m in \u001b[0;36mget_loc\u001b[0;34m(self, key, method, tolerance)\u001b[0m\n\u001b[1;32m   2646\u001b[0m                 \u001b[0;32mreturn\u001b[0m \u001b[0mself\u001b[0m\u001b[0;34m.\u001b[0m\u001b[0m_engine\u001b[0m\u001b[0;34m.\u001b[0m\u001b[0mget_loc\u001b[0m\u001b[0;34m(\u001b[0m\u001b[0mkey\u001b[0m\u001b[0;34m)\u001b[0m\u001b[0;34m\u001b[0m\u001b[0;34m\u001b[0m\u001b[0m\n\u001b[1;32m   2647\u001b[0m             \u001b[0;32mexcept\u001b[0m \u001b[0mKeyError\u001b[0m\u001b[0;34m:\u001b[0m\u001b[0;34m\u001b[0m\u001b[0;34m\u001b[0m\u001b[0m\n\u001b[0;32m-> 2648\u001b[0;31m                 \u001b[0;32mreturn\u001b[0m \u001b[0mself\u001b[0m\u001b[0;34m.\u001b[0m\u001b[0m_engine\u001b[0m\u001b[0;34m.\u001b[0m\u001b[0mget_loc\u001b[0m\u001b[0;34m(\u001b[0m\u001b[0mself\u001b[0m\u001b[0;34m.\u001b[0m\u001b[0m_maybe_cast_indexer\u001b[0m\u001b[0;34m(\u001b[0m\u001b[0mkey\u001b[0m\u001b[0;34m)\u001b[0m\u001b[0;34m)\u001b[0m\u001b[0;34m\u001b[0m\u001b[0;34m\u001b[0m\u001b[0m\n\u001b[0m\u001b[1;32m   2649\u001b[0m         \u001b[0mindexer\u001b[0m \u001b[0;34m=\u001b[0m \u001b[0mself\u001b[0m\u001b[0;34m.\u001b[0m\u001b[0mget_indexer\u001b[0m\u001b[0;34m(\u001b[0m\u001b[0;34m[\u001b[0m\u001b[0mkey\u001b[0m\u001b[0;34m]\u001b[0m\u001b[0;34m,\u001b[0m \u001b[0mmethod\u001b[0m\u001b[0;34m=\u001b[0m\u001b[0mmethod\u001b[0m\u001b[0;34m,\u001b[0m \u001b[0mtolerance\u001b[0m\u001b[0;34m=\u001b[0m\u001b[0mtolerance\u001b[0m\u001b[0;34m)\u001b[0m\u001b[0;34m\u001b[0m\u001b[0;34m\u001b[0m\u001b[0m\n\u001b[1;32m   2650\u001b[0m         \u001b[0;32mif\u001b[0m \u001b[0mindexer\u001b[0m\u001b[0;34m.\u001b[0m\u001b[0mndim\u001b[0m \u001b[0;34m>\u001b[0m \u001b[0;36m1\u001b[0m \u001b[0;32mor\u001b[0m \u001b[0mindexer\u001b[0m\u001b[0;34m.\u001b[0m\u001b[0msize\u001b[0m \u001b[0;34m>\u001b[0m \u001b[0;36m1\u001b[0m\u001b[0;34m:\u001b[0m\u001b[0;34m\u001b[0m\u001b[0;34m\u001b[0m\u001b[0m\n",
            "\u001b[0;32mpandas/_libs/index.pyx\u001b[0m in \u001b[0;36mpandas._libs.index.IndexEngine.get_loc\u001b[0;34m()\u001b[0m\n",
            "\u001b[0;32mpandas/_libs/index.pyx\u001b[0m in \u001b[0;36mpandas._libs.index.IndexEngine.get_loc\u001b[0;34m()\u001b[0m\n",
            "\u001b[0;32mpandas/_libs/hashtable_class_helper.pxi\u001b[0m in \u001b[0;36mpandas._libs.hashtable.PyObjectHashTable.get_item\u001b[0;34m()\u001b[0m\n",
            "\u001b[0;32mpandas/_libs/hashtable_class_helper.pxi\u001b[0m in \u001b[0;36mpandas._libs.hashtable.PyObjectHashTable.get_item\u001b[0;34m()\u001b[0m\n",
            "\u001b[0;31mKeyError\u001b[0m: 'BRAND_NAME'"
          ]
        }
      ]
    },
    {
      "cell_type": "code",
      "metadata": {
        "id": "40LO9pZlSk0R"
      },
      "source": [
        "recomm_df.head()"
      ],
      "execution_count": null,
      "outputs": []
    },
    {
      "cell_type": "code",
      "metadata": {
        "id": "Ojtx8JAahhYa"
      },
      "source": [
        "recomm_df.shape"
      ],
      "execution_count": null,
      "outputs": []
    },
    {
      "cell_type": "code",
      "metadata": {
        "id": "_UL4rSRRcOwP"
      },
      "source": [
        "recomm_df.to_csv('recomm_sys_updated.csv')"
      ],
      "execution_count": null,
      "outputs": []
    },
    {
      "cell_type": "code",
      "metadata": {
        "id": "IluixgZvS4Ru"
      },
      "source": [
        "key_device_features = recomm_df['KEY_DEVICE_DATA'].tolist()\n",
        "key_device_features"
      ],
      "execution_count": null,
      "outputs": []
    },
    {
      "cell_type": "code",
      "metadata": {
        "id": "0OQ_8D7lTEG9"
      },
      "source": [
        "lemmatizer = WordNetLemmatizer()\n",
        "cleaned_features = []\n",
        "for doc in key_device_features:\n",
        "    words = regexp_tokenize(doc.lower(), r'[A-Za-z0-9]+')\n",
        "    words = [lemmatizer.lemmatize(w) for w in words]\n",
        "    cleaned_features.append(words)\n",
        "cleaned_features"
      ],
      "execution_count": null,
      "outputs": []
    },
    {
      "cell_type": "markdown",
      "metadata": {
        "id": "sCWSbi0J77tR"
      },
      "source": []
    },
    {
      "cell_type": "code",
      "metadata": {
        "id": "C_khtk0ohd0e"
      },
      "source": [
        "len(cleaned_features)"
      ],
      "execution_count": null,
      "outputs": []
    },
    {
      "cell_type": "code",
      "metadata": {
        "id": "xQJqs-T8jHfl"
      },
      "source": [
        "' '.join(cleaned_features[0])"
      ],
      "execution_count": null,
      "outputs": []
    },
    {
      "cell_type": "code",
      "metadata": {
        "id": "DtQx8WDlhlEB"
      },
      "source": [
        "recomm_df['CLEANED_FEATURES'] = [' '.join(text) for text in cleaned_features]\n",
        "recomm_df.head()"
      ],
      "execution_count": null,
      "outputs": []
    },
    {
      "cell_type": "code",
      "metadata": {
        "id": "4VM_-Vw3hzDb"
      },
      "source": [
        "recomm_df.isna().sum()"
      ],
      "execution_count": null,
      "outputs": []
    },
    {
      "cell_type": "code",
      "metadata": {
        "id": "TRMdlUGRV5l2"
      },
      "source": [
        "from gensim.models import doc2vec"
      ],
      "execution_count": null,
      "outputs": []
    },
    {
      "cell_type": "code",
      "metadata": {
        "id": "scJRW39mWLuK"
      },
      "source": [
        "def create_tagged_document(list_of_list_of_words):\n",
        "    for i, list_of_words in enumerate(list_of_list_of_words):\n",
        "        yield doc2vec.TaggedDocument(list_of_words, [i])"
      ],
      "execution_count": null,
      "outputs": []
    },
    {
      "cell_type": "code",
      "metadata": {
        "id": "-Y1kAH-JWNX2"
      },
      "source": [
        "train_data = list(create_tagged_document(cleaned_features))\n",
        "print(train_data[:1])"
      ],
      "execution_count": null,
      "outputs": []
    },
    {
      "cell_type": "code",
      "metadata": {
        "id": "ePmGeSxoWTpP"
      },
      "source": [
        "model = doc2vec.Doc2Vec(vector_size=50, min_count=2, epochs=40)\n",
        "model.build_vocab(train_data)"
      ],
      "execution_count": null,
      "outputs": []
    },
    {
      "cell_type": "code",
      "metadata": {
        "id": "SeXxPrn8Wcno"
      },
      "source": [
        "model.train(train_data, total_examples=model.corpus_count, epochs=model.epochs)"
      ],
      "execution_count": null,
      "outputs": []
    },
    {
      "cell_type": "code",
      "metadata": {
        "id": "R7xczKPh0YlO"
      },
      "source": [
        "model.save('scenario2_recom_model.pkl')"
      ],
      "execution_count": null,
      "outputs": []
    },
    {
      "cell_type": "code",
      "metadata": {
        "id": "2EJH-hB-Wjjo"
      },
      "source": [
        "sentence = 'ventilator'\n",
        "words = sentence.split()\n",
        "print(model.infer_vector(words))"
      ],
      "execution_count": null,
      "outputs": []
    },
    {
      "cell_type": "code",
      "metadata": {
        "id": "_-s2Gl2rab8-"
      },
      "source": [
        "new_vector = model.infer_vector(words)"
      ],
      "execution_count": null,
      "outputs": []
    },
    {
      "cell_type": "code",
      "metadata": {
        "id": "SvULHfy8a-Rd"
      },
      "source": [
        "sims = model.docvecs.most_similar([new_vector])"
      ],
      "execution_count": null,
      "outputs": []
    },
    {
      "cell_type": "code",
      "metadata": {
        "id": "tUYDdfk0bDgQ"
      },
      "source": [
        "sims"
      ],
      "execution_count": null,
      "outputs": []
    },
    {
      "cell_type": "code",
      "metadata": {
        "id": "CcqR3-DGc1IY"
      },
      "source": [
        "most_similar_docs = []\n",
        "for d in sims:\n",
        "    most_similar_docs.append(cleaned_features[d[0]])"
      ],
      "execution_count": null,
      "outputs": []
    },
    {
      "cell_type": "code",
      "metadata": {
        "id": "69kdBr8KfN1w"
      },
      "source": [
        "most_similar_docs"
      ],
      "execution_count": null,
      "outputs": []
    },
    {
      "cell_type": "code",
      "metadata": {
        "id": "D1txV5kxfs_y"
      },
      "source": [
        "predicted_docs = []\n",
        "for text in most_similar_docs:\n",
        "    text = ' '.join([w for w in text])\n",
        "    predicted_docs.append(text)"
      ],
      "execution_count": null,
      "outputs": []
    },
    {
      "cell_type": "code",
      "metadata": {
        "id": "uJGD6LgrkF4x"
      },
      "source": [
        "predicted_docs[0]"
      ],
      "execution_count": null,
      "outputs": []
    },
    {
      "cell_type": "code",
      "metadata": {
        "id": "61q6lXMPgNi9"
      },
      "source": [
        "Index_label = recomm_df[recomm_df['CLEANED_FEATURES'] == predicted_docs[0]].index.tolist()"
      ],
      "execution_count": null,
      "outputs": []
    },
    {
      "cell_type": "code",
      "metadata": {
        "id": "wGLM1WsljiaD"
      },
      "source": [
        "Index_label[:5]"
      ],
      "execution_count": null,
      "outputs": []
    },
    {
      "cell_type": "code",
      "metadata": {
        "id": "WsFCuDKIuY38"
      },
      "source": [
        "recomm_df.loc[152450,'KEY_DEVICE_DATA']"
      ],
      "execution_count": null,
      "outputs": []
    }
  ]
}