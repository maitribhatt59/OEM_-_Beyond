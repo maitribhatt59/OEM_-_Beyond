{
  "nbformat": 4,
  "nbformat_minor": 0,
  "metadata": {
    "colab": {
      "provenance": []
    },
    "kernelspec": {
      "name": "python3",
      "display_name": "Python 3"
    }
  },
  "cells": [
    {
      "cell_type": "code",
      "metadata": {
        "id": "xDKkae4kkHEI"
      },
      "source": [
        "import pandas as pd\n",
        "import numpy as np\n",
        "import os\n",
        "from sklearn.preprocessing import LabelEncoder, OneHotEncoder\n",
        "from sklearn.compose import ColumnTransformer\n",
        "import tensorflow as tf"
      ],
      "execution_count": null,
      "outputs": []
    },
    {
      "cell_type": "code",
      "metadata": {
        "id": "1bC3GlqDkYXK"
      },
      "source": [
        "os.chdir('/content/drive/My Drive/OEM/Final datasets')"
      ],
      "execution_count": null,
      "outputs": []
    },
    {
      "cell_type": "code",
      "metadata": {
        "id": "TMoAp3fCkbMY",
        "colab": {
          "base_uri": "https://localhost:8080/",
          "height": 534
        },
        "outputId": "22e84928-277b-4ffa-8f8e-396da2e9cdfb"
      },
      "source": [
        "scenario1_df = pd.read_csv('final_mer.csv')\n",
        "scenario1_df.drop(['Unnamed: 0'], axis=1, inplace=True)\n",
        "scenario1_df.head()"
      ],
      "execution_count": null,
      "outputs": [
        {
          "output_type": "stream",
          "text": [
            "/usr/local/lib/python3.6/dist-packages/IPython/core/interactiveshell.py:2718: DtypeWarning: Columns (19) have mixed types.Specify dtype option on import or set low_memory=False.\n",
            "  interactivity=interactivity, compiler=compiler, result=result)\n"
          ],
          "name": "stderr"
        },
        {
          "output_type": "execute_result",
          "data": {
            "text/html": [
              "<div>\n",
              "<style scoped>\n",
              "    .dataframe tbody tr th:only-of-type {\n",
              "        vertical-align: middle;\n",
              "    }\n",
              "\n",
              "    .dataframe tbody tr th {\n",
              "        vertical-align: top;\n",
              "    }\n",
              "\n",
              "    .dataframe thead th {\n",
              "        text-align: right;\n",
              "    }\n",
              "</style>\n",
              "<table border=\"1\" class=\"dataframe\">\n",
              "  <thead>\n",
              "    <tr style=\"text-align: right;\">\n",
              "      <th></th>\n",
              "      <th>REG_KEY</th>\n",
              "      <th>FEI_NUMBER</th>\n",
              "      <th>REG_STATUS_ID</th>\n",
              "      <th>INITIAL_IMPORTER_FLAG</th>\n",
              "      <th>REG_EXPIRY_DATE_YEAR</th>\n",
              "      <th>ADDRESS_TYPE_ID</th>\n",
              "      <th>NAME</th>\n",
              "      <th>ISO_COUNTRY_CODE_x</th>\n",
              "      <th>KEY_VAL</th>\n",
              "      <th>PREMARKET_SUBMISSION_NUMBER</th>\n",
              "      <th>PROPRIETARY_NAME</th>\n",
              "      <th>PRODUCT_CODE</th>\n",
              "      <th>CREATED_DATE</th>\n",
              "      <th>OWNER_OPERATOR_NUMBER</th>\n",
              "      <th>EXEMPT</th>\n",
              "      <th>ESTABLISHMENT_TYPE_ID</th>\n",
              "      <th>MEDICALSPECIALTY</th>\n",
              "      <th>DEVICENAME</th>\n",
              "      <th>DEVICECLASS</th>\n",
              "      <th>CONTACT_ID</th>\n",
              "      <th>FIRM_NAME</th>\n",
              "      <th>STATE_CODE</th>\n",
              "      <th>ISO_COUNTRY_CODE_y</th>\n",
              "    </tr>\n",
              "  </thead>\n",
              "  <tbody>\n",
              "    <tr>\n",
              "      <th>0</th>\n",
              "      <td>6378</td>\n",
              "      <td>1.000122e+09</td>\n",
              "      <td>1</td>\n",
              "      <td>Y</td>\n",
              "      <td>2020</td>\n",
              "      <td>F</td>\n",
              "      <td>SAFILO USA, INC.</td>\n",
              "      <td>US</td>\n",
              "      <td>1150540660</td>\n",
              "      <td>NaN</td>\n",
              "      <td>Polaroid</td>\n",
              "      <td>HOI</td>\n",
              "      <td>02/24/2017</td>\n",
              "      <td>2241997</td>\n",
              "      <td>NaN</td>\n",
              "      <td>{7}</td>\n",
              "      <td>OP</td>\n",
              "      <td>Spectacle, Magnifying</td>\n",
              "      <td>1</td>\n",
              "      <td>960511</td>\n",
              "      <td>SAFILO USA</td>\n",
              "      <td>NJ</td>\n",
              "      <td>US</td>\n",
              "    </tr>\n",
              "    <tr>\n",
              "      <th>1</th>\n",
              "      <td>107232</td>\n",
              "      <td>3.007817e+09</td>\n",
              "      <td>1</td>\n",
              "      <td>N</td>\n",
              "      <td>2020</td>\n",
              "      <td>F</td>\n",
              "      <td>Essilor Optical Laboratory (Thailand) Co., Ltd.</td>\n",
              "      <td>TH</td>\n",
              "      <td>1294376319</td>\n",
              "      <td>NaN</td>\n",
              "      <td>Ovation</td>\n",
              "      <td>HOI</td>\n",
              "      <td>12/01/2006</td>\n",
              "      <td>8010073</td>\n",
              "      <td>NaN</td>\n",
              "      <td>{5}</td>\n",
              "      <td>OP</td>\n",
              "      <td>Spectacle, Magnifying</td>\n",
              "      <td>1</td>\n",
              "      <td>966938</td>\n",
              "      <td>ESSILOR INTERNATIONAL</td>\n",
              "      <td>FR-NOTA</td>\n",
              "      <td>FR</td>\n",
              "    </tr>\n",
              "    <tr>\n",
              "      <th>2</th>\n",
              "      <td>107232</td>\n",
              "      <td>3.007817e+09</td>\n",
              "      <td>1</td>\n",
              "      <td>N</td>\n",
              "      <td>2020</td>\n",
              "      <td>F</td>\n",
              "      <td>Essilor Optical Laboratory (Thailand) Co., Ltd.</td>\n",
              "      <td>TH</td>\n",
              "      <td>1294376319</td>\n",
              "      <td>NaN</td>\n",
              "      <td>Essilor Ideal</td>\n",
              "      <td>HOI</td>\n",
              "      <td>12/01/2006</td>\n",
              "      <td>8010073</td>\n",
              "      <td>NaN</td>\n",
              "      <td>{5}</td>\n",
              "      <td>OP</td>\n",
              "      <td>Spectacle, Magnifying</td>\n",
              "      <td>1</td>\n",
              "      <td>966938</td>\n",
              "      <td>ESSILOR INTERNATIONAL</td>\n",
              "      <td>FR-NOTA</td>\n",
              "      <td>FR</td>\n",
              "    </tr>\n",
              "    <tr>\n",
              "      <th>3</th>\n",
              "      <td>107232</td>\n",
              "      <td>3.007817e+09</td>\n",
              "      <td>1</td>\n",
              "      <td>N</td>\n",
              "      <td>2020</td>\n",
              "      <td>F</td>\n",
              "      <td>Essilor Optical Laboratory (Thailand) Co., Ltd.</td>\n",
              "      <td>TH</td>\n",
              "      <td>1294376319</td>\n",
              "      <td>NaN</td>\n",
              "      <td>Varilux</td>\n",
              "      <td>HOI</td>\n",
              "      <td>12/01/2006</td>\n",
              "      <td>8010073</td>\n",
              "      <td>NaN</td>\n",
              "      <td>{5}</td>\n",
              "      <td>OP</td>\n",
              "      <td>Spectacle, Magnifying</td>\n",
              "      <td>1</td>\n",
              "      <td>966938</td>\n",
              "      <td>ESSILOR INTERNATIONAL</td>\n",
              "      <td>FR-NOTA</td>\n",
              "      <td>FR</td>\n",
              "    </tr>\n",
              "    <tr>\n",
              "      <th>4</th>\n",
              "      <td>107232</td>\n",
              "      <td>3.007817e+09</td>\n",
              "      <td>1</td>\n",
              "      <td>N</td>\n",
              "      <td>2020</td>\n",
              "      <td>F</td>\n",
              "      <td>Essilor Optical Laboratory (Thailand) Co., Ltd.</td>\n",
              "      <td>TH</td>\n",
              "      <td>1294376319</td>\n",
              "      <td>NaN</td>\n",
              "      <td>Crizal</td>\n",
              "      <td>HOI</td>\n",
              "      <td>12/01/2006</td>\n",
              "      <td>8010073</td>\n",
              "      <td>NaN</td>\n",
              "      <td>{5}</td>\n",
              "      <td>OP</td>\n",
              "      <td>Spectacle, Magnifying</td>\n",
              "      <td>1</td>\n",
              "      <td>966938</td>\n",
              "      <td>ESSILOR INTERNATIONAL</td>\n",
              "      <td>FR-NOTA</td>\n",
              "      <td>FR</td>\n",
              "    </tr>\n",
              "  </tbody>\n",
              "</table>\n",
              "</div>"
            ],
            "text/plain": [
              "   REG_KEY    FEI_NUMBER  ...  STATE_CODE ISO_COUNTRY_CODE_y\n",
              "0     6378  1.000122e+09  ...          NJ                 US\n",
              "1   107232  3.007817e+09  ...     FR-NOTA                 FR\n",
              "2   107232  3.007817e+09  ...     FR-NOTA                 FR\n",
              "3   107232  3.007817e+09  ...     FR-NOTA                 FR\n",
              "4   107232  3.007817e+09  ...     FR-NOTA                 FR\n",
              "\n",
              "[5 rows x 23 columns]"
            ]
          },
          "metadata": {
            "tags": []
          },
          "execution_count": 3
        }
      ]
    },
    {
      "cell_type": "code",
      "metadata": {
        "id": "MliTMjC_kouZ",
        "colab": {
          "base_uri": "https://localhost:8080/",
          "height": 437
        },
        "outputId": "3a761aa9-7f40-46b8-a318-9e0fa139f7d3"
      },
      "source": [
        "print(scenario1_df.shape)\n",
        "scenario1_df.isna().sum()"
      ],
      "execution_count": null,
      "outputs": [
        {
          "output_type": "stream",
          "text": [
            "(1480208, 23)\n"
          ],
          "name": "stdout"
        },
        {
          "output_type": "execute_result",
          "data": {
            "text/plain": [
              "REG_KEY                              0\n",
              "FEI_NUMBER                       31425\n",
              "REG_STATUS_ID                        0\n",
              "INITIAL_IMPORTER_FLAG                0\n",
              "REG_EXPIRY_DATE_YEAR                 0\n",
              "ADDRESS_TYPE_ID                      0\n",
              "NAME                              8853\n",
              "ISO_COUNTRY_CODE_x                   0\n",
              "KEY_VAL                              0\n",
              "PREMARKET_SUBMISSION_NUMBER     672070\n",
              "PROPRIETARY_NAME                   193\n",
              "PRODUCT_CODE                         0\n",
              "CREATED_DATE                         0\n",
              "OWNER_OPERATOR_NUMBER                0\n",
              "EXEMPT                         1480208\n",
              "ESTABLISHMENT_TYPE_ID                0\n",
              "MEDICALSPECIALTY                 49822\n",
              "DEVICENAME                           0\n",
              "DEVICECLASS                          0\n",
              "CONTACT_ID                           0\n",
              "FIRM_NAME                            0\n",
              "STATE_CODE                           0\n",
              "ISO_COUNTRY_CODE_y                   0\n",
              "dtype: int64"
            ]
          },
          "metadata": {
            "tags": []
          },
          "execution_count": 5
        }
      ]
    },
    {
      "cell_type": "code",
      "metadata": {
        "id": "2vMKm0kyk9Lv"
      },
      "source": [
        "scenario1_input_df = scenario1_df.drop(['REG_KEY', 'FEI_NUMBER', 'REG_STATUS_ID',\n",
        "       'REG_EXPIRY_DATE_YEAR', 'ADDRESS_TYPE_ID',\n",
        "       'KEY_VAL', 'PREMARKET_SUBMISSION_NUMBER',\n",
        "       'CREATED_DATE', 'OWNER_OPERATOR_NUMBER', 'EXEMPT',\n",
        "       'DEVICECLASS', 'CONTACT_ID'], axis=1)"
      ],
      "execution_count": null,
      "outputs": []
    },
    {
      "cell_type": "code",
      "metadata": {
        "id": "r5P883m-90XM",
        "colab": {
          "base_uri": "https://localhost:8080/",
          "height": 218
        },
        "outputId": "d8b2998f-561f-4fa6-8c12-dc2e8e462a6d"
      },
      "source": [
        "scenario1_input_df.isna().sum()"
      ],
      "execution_count": null,
      "outputs": [
        {
          "output_type": "execute_result",
          "data": {
            "text/plain": [
              "INITIAL_IMPORTER_FLAG        0\n",
              "NAME                      8853\n",
              "ISO_COUNTRY_CODE_x           0\n",
              "PROPRIETARY_NAME           193\n",
              "PRODUCT_CODE                 0\n",
              "ESTABLISHMENT_TYPE_ID        0\n",
              "MEDICALSPECIALTY         49822\n",
              "DEVICENAME                   0\n",
              "FIRM_NAME                    0\n",
              "STATE_CODE                   0\n",
              "ISO_COUNTRY_CODE_y           0\n",
              "dtype: int64"
            ]
          },
          "metadata": {
            "tags": []
          },
          "execution_count": 12
        }
      ]
    },
    {
      "cell_type": "code",
      "metadata": {
        "id": "diqv-OxS-HlZ",
        "colab": {
          "base_uri": "https://localhost:8080/",
          "height": 218
        },
        "outputId": "3871b1fe-dd2e-4f90-e46c-a5764ecad38d"
      },
      "source": [
        "scenario1_input_df = scenario1_input_df[scenario1_input_df['MEDICALSPECIALTY'].notnull()]\n",
        "scenario1_input_df.isna().sum()"
      ],
      "execution_count": null,
      "outputs": [
        {
          "output_type": "execute_result",
          "data": {
            "text/plain": [
              "INITIAL_IMPORTER_FLAG       0\n",
              "NAME                     7938\n",
              "ISO_COUNTRY_CODE_x          0\n",
              "PROPRIETARY_NAME          178\n",
              "PRODUCT_CODE                0\n",
              "ESTABLISHMENT_TYPE_ID       0\n",
              "MEDICALSPECIALTY            0\n",
              "DEVICENAME                  0\n",
              "FIRM_NAME                   0\n",
              "STATE_CODE                  0\n",
              "ISO_COUNTRY_CODE_y          0\n",
              "dtype: int64"
            ]
          },
          "metadata": {
            "tags": []
          },
          "execution_count": 13
        }
      ]
    },
    {
      "cell_type": "code",
      "metadata": {
        "id": "Ke01Ez-MlNEy",
        "colab": {
          "base_uri": "https://localhost:8080/",
          "height": 185
        },
        "outputId": "60cb62a3-1048-4dd6-b819-bb76db13c1f1"
      },
      "source": [
        "scenario1_input_df.drop(['STATE_CODE', 'NAME'], axis=1, inplace=True)\n",
        "scenario1_input_df.isna().sum()"
      ],
      "execution_count": null,
      "outputs": [
        {
          "output_type": "execute_result",
          "data": {
            "text/plain": [
              "INITIAL_IMPORTER_FLAG      0\n",
              "ISO_COUNTRY_CODE_x         0\n",
              "PROPRIETARY_NAME         178\n",
              "PRODUCT_CODE               0\n",
              "ESTABLISHMENT_TYPE_ID      0\n",
              "MEDICALSPECIALTY           0\n",
              "DEVICENAME                 0\n",
              "FIRM_NAME                  0\n",
              "ISO_COUNTRY_CODE_y         0\n",
              "dtype: int64"
            ]
          },
          "metadata": {
            "tags": []
          },
          "execution_count": 14
        }
      ]
    },
    {
      "cell_type": "code",
      "metadata": {
        "id": "VO4aTOi1lcy0",
        "colab": {
          "base_uri": "https://localhost:8080/",
          "height": 34
        },
        "outputId": "4098b336-1947-4421-dd00-bd5c3bd5db68"
      },
      "source": [
        "scenario1_input_df = scenario1_input_df[scenario1_input_df['PROPRIETARY_NAME'].notnull()]\n",
        "scenario1_input_df.shape"
      ],
      "execution_count": null,
      "outputs": [
        {
          "output_type": "execute_result",
          "data": {
            "text/plain": [
              "(1430208, 9)"
            ]
          },
          "metadata": {
            "tags": []
          },
          "execution_count": 15
        }
      ]
    },
    {
      "cell_type": "code",
      "metadata": {
        "id": "se7Hn4UW-VVk",
        "colab": {
          "base_uri": "https://localhost:8080/",
          "height": 185
        },
        "outputId": "17636c80-af19-4f74-a705-525e0f881e67"
      },
      "source": [
        "scenario1_input_df.isna().sum()"
      ],
      "execution_count": null,
      "outputs": [
        {
          "output_type": "execute_result",
          "data": {
            "text/plain": [
              "INITIAL_IMPORTER_FLAG    0\n",
              "ISO_COUNTRY_CODE_x       0\n",
              "PROPRIETARY_NAME         0\n",
              "PRODUCT_CODE             0\n",
              "ESTABLISHMENT_TYPE_ID    0\n",
              "MEDICALSPECIALTY         0\n",
              "DEVICENAME               0\n",
              "FIRM_NAME                0\n",
              "ISO_COUNTRY_CODE_y       0\n",
              "dtype: int64"
            ]
          },
          "metadata": {
            "tags": []
          },
          "execution_count": 16
        }
      ]
    },
    {
      "cell_type": "code",
      "metadata": {
        "id": "v5sK34LQAfc2",
        "colab": {
          "base_uri": "https://localhost:8080/",
          "height": 218
        },
        "outputId": "cccaea77-f505-42cd-d45d-e077f5012934"
      },
      "source": [
        "scenario1_input_df['PROPRIETARY_NAME'].value_counts()"
      ],
      "execution_count": null,
      "outputs": [
        {
          "output_type": "execute_result",
          "data": {
            "text/plain": [
              "P2D                                     1790\n",
              "ACTH Control Module                     1782\n",
              "IMMULITE Insulin                        1775\n",
              "IMMULITE Albumin                        1770\n",
              "Albumin Control Module                  1770\n",
              "                                        ... \n",
              "ASSI.MTK2054018                            1\n",
              "Relief+                                    1\n",
              "Human CD138 PE-Cy 5.5 Conjugate            1\n",
              "Kimberly-Clark PFR95 Respirator            1\n",
              "Mega Power Electrosurgical Generator       1\n",
              "Name: PROPRIETARY_NAME, Length: 394706, dtype: int64"
            ]
          },
          "metadata": {
            "tags": []
          },
          "execution_count": 25
        }
      ]
    },
    {
      "cell_type": "code",
      "metadata": {
        "id": "_V84uEnPltiF",
        "colab": {
          "base_uri": "https://localhost:8080/",
          "height": 67
        },
        "outputId": "ff109731-5a78-4f3d-ccfa-588b4c487239"
      },
      "source": [
        "scenario1_input_df['INITIAL_IMPORTER_FLAG'].value_counts()"
      ],
      "execution_count": null,
      "outputs": [
        {
          "output_type": "execute_result",
          "data": {
            "text/plain": [
              "N    1272628\n",
              "Y     157580\n",
              "Name: INITIAL_IMPORTER_FLAG, dtype: int64"
            ]
          },
          "metadata": {
            "tags": []
          },
          "execution_count": 17
        }
      ]
    },
    {
      "cell_type": "code",
      "metadata": {
        "id": "QSTAGW1dsI_g",
        "colab": {
          "base_uri": "https://localhost:8080/",
          "height": 218
        },
        "outputId": "2c898dc2-57bb-4d9c-80bb-46ad7505469e"
      },
      "source": [
        "scenario1_input_df['PRODUCT_CODE'].value_counts()"
      ],
      "execution_count": null,
      "outputs": [
        {
          "output_type": "execute_result",
          "data": {
            "text/plain": [
              "ITX    28536\n",
              "LXH    28155\n",
              "IYO    27848\n",
              "IYN    27342\n",
              "NDP    16777\n",
              "       ...  \n",
              "OPC        1\n",
              "CAG        1\n",
              "OPJ        1\n",
              "QAA        1\n",
              "OER        1\n",
              "Name: PRODUCT_CODE, Length: 4665, dtype: int64"
            ]
          },
          "metadata": {
            "tags": []
          },
          "execution_count": 18
        }
      ]
    },
    {
      "cell_type": "code",
      "metadata": {
        "id": "zpbRi3itp0WS",
        "colab": {
          "base_uri": "https://localhost:8080/",
          "height": 218
        },
        "outputId": "7eb8a429-d65d-4933-ce27-8e8f7dc554fc"
      },
      "source": [
        "scenario1_input_df['ESTABLISHMENT_TYPE_ID'].value_counts()"
      ],
      "execution_count": null,
      "outputs": [
        {
          "output_type": "execute_result",
          "data": {
            "text/plain": [
              "{5}           317172\n",
              "{2}           100686\n",
              "{1, 5}         99255\n",
              "{9, 5}         65569\n",
              "{1}            52659\n",
              "               ...  \n",
              "{1, 6, 7}          1\n",
              "{1, 10, 2}         1\n",
              "{8, 1}             1\n",
              "{2, 10, 5}         1\n",
              "{8, 6}             1\n",
              "Name: ESTABLISHMENT_TYPE_ID, Length: 353, dtype: int64"
            ]
          },
          "metadata": {
            "tags": []
          },
          "execution_count": 19
        }
      ]
    },
    {
      "cell_type": "code",
      "metadata": {
        "id": "9-mwmmj-mSbC",
        "colab": {
          "base_uri": "https://localhost:8080/",
          "height": 370
        },
        "outputId": "a1318663-c98f-4307-c0cb-6669d37a3f8e"
      },
      "source": [
        "scenario1_input_df['MEDICALSPECIALTY'].value_counts()"
      ],
      "execution_count": null,
      "outputs": [
        {
          "output_type": "execute_result",
          "data": {
            "text/plain": [
              "OR    234499\n",
              "SU    205031\n",
              "DE    153754\n",
              "RA    122159\n",
              "CH     96676\n",
              "PM     93238\n",
              "HO     82856\n",
              "CV     61862\n",
              "GU     57145\n",
              "OP     55924\n",
              "AN     47530\n",
              "NE     35841\n",
              "TX     33000\n",
              "HE     29177\n",
              "PA     28629\n",
              "EN     26592\n",
              "MI     24678\n",
              "IM     22810\n",
              "OB     18767\n",
              "MG        40\n",
              "Name: MEDICALSPECIALTY, dtype: int64"
            ]
          },
          "metadata": {
            "tags": []
          },
          "execution_count": 20
        }
      ]
    },
    {
      "cell_type": "code",
      "metadata": {
        "id": "UR37C0lO_tvJ",
        "colab": {
          "base_uri": "https://localhost:8080/",
          "height": 218
        },
        "outputId": "d01ced24-4f07-427e-d949-6a31bb67c654"
      },
      "source": [
        "scenario1_input_df['ISO_COUNTRY_CODE_y'].value_counts()"
      ],
      "execution_count": null,
      "outputs": [
        {
          "output_type": "execute_result",
          "data": {
            "text/plain": [
              "US    811301\n",
              "CN    123789\n",
              "DE     68983\n",
              "KR     58005\n",
              "JP     48029\n",
              "       ...  \n",
              "VU         4\n",
              "VG         2\n",
              "BL         2\n",
              "EC         2\n",
              "FJ         2\n",
              "Name: ISO_COUNTRY_CODE_y, Length: 99, dtype: int64"
            ]
          },
          "metadata": {
            "tags": []
          },
          "execution_count": 21
        }
      ]
    },
    {
      "cell_type": "code",
      "metadata": {
        "id": "Emb59IbKl9Gr",
        "colab": {
          "base_uri": "https://localhost:8080/",
          "height": 34
        },
        "outputId": "3aab14d0-0eae-48e0-98b8-498a28203c34"
      },
      "source": [
        "target_est_ids = scenario1_input_df['ESTABLISHMENT_TYPE_ID'].value_counts().nlargest(n=5).index.tolist()\n",
        "target_est_ids"
      ],
      "execution_count": null,
      "outputs": [
        {
          "output_type": "execute_result",
          "data": {
            "text/plain": [
              "['{5}', '{2}', '{1, 5}', '{9, 5}', '{1}']"
            ]
          },
          "metadata": {
            "tags": []
          },
          "execution_count": 27
        }
      ]
    },
    {
      "cell_type": "code",
      "metadata": {
        "id": "gBPgRtPe9TDI",
        "colab": {
          "base_uri": "https://localhost:8080/",
          "height": 34
        },
        "outputId": "cd764876-6343-42dc-a733-39b0f5edb393"
      },
      "source": [
        "target_countries = scenario1_input_df['ISO_COUNTRY_CODE_y'].value_counts().nlargest(n=5).index.tolist()\n",
        "target_countries"
      ],
      "execution_count": null,
      "outputs": [
        {
          "output_type": "execute_result",
          "data": {
            "text/plain": [
              "['US', 'CN', 'DE', 'KR', 'JP']"
            ]
          },
          "metadata": {
            "tags": []
          },
          "execution_count": 22
        }
      ]
    },
    {
      "cell_type": "code",
      "metadata": {
        "id": "nd8V47ies_00"
      },
      "source": [
        "# target_prod_codes = input_data['PRODUCT_CODE'].value_counts().nlargest(n=30).index.tolist()\n",
        "# target_prod_codes"
      ],
      "execution_count": null,
      "outputs": []
    },
    {
      "cell_type": "code",
      "metadata": {
        "id": "4A_UoFYLBPQ4",
        "colab": {
          "base_uri": "https://localhost:8080/",
          "height": 34
        },
        "outputId": "7603e67b-bcb2-4ed2-b036-aff4faee4f23"
      },
      "source": [
        "target_medical_spl = scenario1_input_df['MEDICALSPECIALTY'].value_counts().nsmallest(n=1).index.tolist()\n",
        "target_medical_spl"
      ],
      "execution_count": null,
      "outputs": [
        {
          "output_type": "execute_result",
          "data": {
            "text/plain": [
              "['MG']"
            ]
          },
          "metadata": {
            "tags": []
          },
          "execution_count": 24
        }
      ]
    },
    {
      "cell_type": "code",
      "metadata": {
        "id": "-eWw0mRRm8lY",
        "colab": {
          "base_uri": "https://localhost:8080/",
          "height": 34
        },
        "outputId": "626c0ab3-6c00-445f-8849-56f3359b509d"
      },
      "source": [
        "updated_input_data = scenario1_input_df.drop(['PROPRIETARY_NAME', 'DEVICENAME', 'FIRM_NAME', 'PRODUCT_CODE'], axis=1)\n",
        "updated_input_data = updated_input_data.reset_index().drop(['index'], axis=1)\n",
        "updated_input_data = updated_input_data[updated_input_data['ESTABLISHMENT_TYPE_ID'].isin(target_est_ids)]\n",
        "# updated_input_data = updated_input_data[updated_input_data['PRODUCT_CODE'].isin(target_prod_codes)]\n",
        "updated_input_data = updated_input_data[updated_input_data['ISO_COUNTRY_CODE_y'].isin(target_countries)]\n",
        "updated_input_data = updated_input_data[updated_input_data['MEDICALSPECIALTY'].isin(target_medical_spl)==False].reset_index().drop(['index'], axis=1)\n",
        "\n",
        "updated_input_data.shape"
      ],
      "execution_count": null,
      "outputs": [
        {
          "output_type": "execute_result",
          "data": {
            "text/plain": [
              "(480543, 5)"
            ]
          },
          "metadata": {
            "tags": []
          },
          "execution_count": 50
        }
      ]
    },
    {
      "cell_type": "code",
      "metadata": {
        "id": "LtdPQZXzA8Ne",
        "colab": {
          "base_uri": "https://localhost:8080/",
          "height": 118
        },
        "outputId": "6c900f85-328a-41af-eda7-9cc88c1d324b"
      },
      "source": [
        "updated_input_data.isna().sum()"
      ],
      "execution_count": null,
      "outputs": [
        {
          "output_type": "execute_result",
          "data": {
            "text/plain": [
              "INITIAL_IMPORTER_FLAG    0\n",
              "ISO_COUNTRY_CODE_x       0\n",
              "ESTABLISHMENT_TYPE_ID    0\n",
              "MEDICALSPECIALTY         0\n",
              "ISO_COUNTRY_CODE_y       0\n",
              "dtype: int64"
            ]
          },
          "metadata": {
            "tags": []
          },
          "execution_count": 51
        }
      ]
    },
    {
      "cell_type": "code",
      "metadata": {
        "id": "3ErwxlFXqWcm",
        "colab": {
          "base_uri": "https://localhost:8080/",
          "height": 118
        },
        "outputId": "6d2b7907-28f8-4166-b83e-590ebd3c81f2"
      },
      "source": [
        "updated_input_data['ESTABLISHMENT_TYPE_ID'].value_counts()"
      ],
      "execution_count": null,
      "outputs": [
        {
          "output_type": "execute_result",
          "data": {
            "text/plain": [
              "{5}       215173\n",
              "{2}        98528\n",
              "{1, 5}     75332\n",
              "{9, 5}     56125\n",
              "{1}        35385\n",
              "Name: ESTABLISHMENT_TYPE_ID, dtype: int64"
            ]
          },
          "metadata": {
            "tags": []
          },
          "execution_count": 52
        }
      ]
    },
    {
      "cell_type": "code",
      "metadata": {
        "id": "cz2xBt25q8Aj",
        "colab": {
          "base_uri": "https://localhost:8080/",
          "height": 215
        },
        "outputId": "3d1ab8d8-641a-477c-95bd-c289f79901b6"
      },
      "source": [
        "updated_input_data = updated_input_data.reset_index().drop(['index'], axis=1)\n",
        "updated_input_data.head()"
      ],
      "execution_count": null,
      "outputs": [
        {
          "output_type": "execute_result",
          "data": {
            "text/html": [
              "<div>\n",
              "<style scoped>\n",
              "    .dataframe tbody tr th:only-of-type {\n",
              "        vertical-align: middle;\n",
              "    }\n",
              "\n",
              "    .dataframe tbody tr th {\n",
              "        vertical-align: top;\n",
              "    }\n",
              "\n",
              "    .dataframe thead th {\n",
              "        text-align: right;\n",
              "    }\n",
              "</style>\n",
              "<table border=\"1\" class=\"dataframe\">\n",
              "  <thead>\n",
              "    <tr style=\"text-align: right;\">\n",
              "      <th></th>\n",
              "      <th>INITIAL_IMPORTER_FLAG</th>\n",
              "      <th>ISO_COUNTRY_CODE_x</th>\n",
              "      <th>ESTABLISHMENT_TYPE_ID</th>\n",
              "      <th>MEDICALSPECIALTY</th>\n",
              "      <th>ISO_COUNTRY_CODE_y</th>\n",
              "    </tr>\n",
              "  </thead>\n",
              "  <tbody>\n",
              "    <tr>\n",
              "      <th>0</th>\n",
              "      <td>N</td>\n",
              "      <td>US</td>\n",
              "      <td>{5}</td>\n",
              "      <td>OP</td>\n",
              "      <td>DE</td>\n",
              "    </tr>\n",
              "    <tr>\n",
              "      <th>1</th>\n",
              "      <td>N</td>\n",
              "      <td>DE</td>\n",
              "      <td>{5}</td>\n",
              "      <td>OP</td>\n",
              "      <td>DE</td>\n",
              "    </tr>\n",
              "    <tr>\n",
              "      <th>2</th>\n",
              "      <td>N</td>\n",
              "      <td>US</td>\n",
              "      <td>{5}</td>\n",
              "      <td>OP</td>\n",
              "      <td>DE</td>\n",
              "    </tr>\n",
              "    <tr>\n",
              "      <th>3</th>\n",
              "      <td>N</td>\n",
              "      <td>DE</td>\n",
              "      <td>{5}</td>\n",
              "      <td>OP</td>\n",
              "      <td>DE</td>\n",
              "    </tr>\n",
              "    <tr>\n",
              "      <th>4</th>\n",
              "      <td>N</td>\n",
              "      <td>US</td>\n",
              "      <td>{5}</td>\n",
              "      <td>OP</td>\n",
              "      <td>DE</td>\n",
              "    </tr>\n",
              "  </tbody>\n",
              "</table>\n",
              "</div>"
            ],
            "text/plain": [
              "  INITIAL_IMPORTER_FLAG ISO_COUNTRY_CODE_x  ... MEDICALSPECIALTY ISO_COUNTRY_CODE_y\n",
              "0                     N                 US  ...               OP                 DE\n",
              "1                     N                 DE  ...               OP                 DE\n",
              "2                     N                 US  ...               OP                 DE\n",
              "3                     N                 DE  ...               OP                 DE\n",
              "4                     N                 US  ...               OP                 DE\n",
              "\n",
              "[5 rows x 5 columns]"
            ]
          },
          "metadata": {
            "tags": []
          },
          "execution_count": 53
        }
      ]
    },
    {
      "cell_type": "code",
      "metadata": {
        "id": "5VGzs9QrrMtl",
        "colab": {
          "base_uri": "https://localhost:8080/",
          "height": 1000
        },
        "outputId": "f77a1fb2-cf75-40c7-e1aa-374f96f9e759"
      },
      "source": [
        "updated_input_data['ISO_COUNTRY_CODE_x'].value_counts()"
      ],
      "execution_count": null,
      "outputs": [
        {
          "output_type": "execute_result",
          "data": {
            "text/plain": [
              "US    312826\n",
              "CN     36681\n",
              "KR     26182\n",
              "DE     24654\n",
              "JP     16517\n",
              "GB     13534\n",
              "CH      7813\n",
              "MX      7259\n",
              "IT      6782\n",
              "FR      4784\n",
              "IN      4182\n",
              "NO      3801\n",
              "IE      3197\n",
              "BE      2140\n",
              "CA      1738\n",
              "TH      1173\n",
              "CR       968\n",
              "IL       884\n",
              "DO       824\n",
              "VN       736\n",
              "AT       530\n",
              "MY       500\n",
              "SG       415\n",
              "PL       397\n",
              "PH       199\n",
              "NL       175\n",
              "SE       172\n",
              "CZ       170\n",
              "BR       142\n",
              "CO       131\n",
              "DK       102\n",
              "RU       102\n",
              "FI       102\n",
              "HU        81\n",
              "EE        74\n",
              "TW        66\n",
              "HN        59\n",
              "SK        57\n",
              "LK        53\n",
              "HK        50\n",
              "LT        45\n",
              "BY        40\n",
              "ID        36\n",
              "MT        33\n",
              "ES        28\n",
              "TN        26\n",
              "ZA        17\n",
              "BG        13\n",
              "PK        12\n",
              "JO         8\n",
              "BB         8\n",
              "MM         6\n",
              "SA         4\n",
              "RO         4\n",
              "TR         4\n",
              "UA         3\n",
              "CL         2\n",
              "AU         1\n",
              "PE         1\n",
              "Name: ISO_COUNTRY_CODE_x, dtype: int64"
            ]
          },
          "metadata": {
            "tags": []
          },
          "execution_count": 54
        }
      ]
    },
    {
      "cell_type": "markdown",
      "metadata": {
        "id": "-Nbm6nZNuQuy"
      },
      "source": [
        "### Preparing the input"
      ]
    },
    {
      "cell_type": "code",
      "metadata": {
        "id": "mW-wNWWyrbxm"
      },
      "source": [
        "updated_input_data['ISO_COUNTRY_CODE_x'] = [1 if x=='CN' else 0 for x in updated_input_data['ISO_COUNTRY_CODE_x'].values]"
      ],
      "execution_count": null,
      "outputs": []
    },
    {
      "cell_type": "code",
      "metadata": {
        "id": "fQgOyTDYryv7",
        "colab": {
          "base_uri": "https://localhost:8080/",
          "height": 67
        },
        "outputId": "badda8e9-9bea-4052-b659-443e0b9797c7"
      },
      "source": [
        "updated_input_data['ISO_COUNTRY_CODE_x'].value_counts()"
      ],
      "execution_count": null,
      "outputs": [
        {
          "output_type": "execute_result",
          "data": {
            "text/plain": [
              "0    443862\n",
              "1     36681\n",
              "Name: ISO_COUNTRY_CODE_x, dtype: int64"
            ]
          },
          "metadata": {
            "tags": []
          },
          "execution_count": 56
        }
      ]
    },
    {
      "cell_type": "code",
      "metadata": {
        "id": "-cqvF0uT0UWG",
        "colab": {
          "base_uri": "https://localhost:8080/",
          "height": 118
        },
        "outputId": "eca8e4fa-a8ba-4831-dde7-85bd7d5f7d51"
      },
      "source": [
        "updated_input_data.dtypes"
      ],
      "execution_count": null,
      "outputs": [
        {
          "output_type": "execute_result",
          "data": {
            "text/plain": [
              "INITIAL_IMPORTER_FLAG    object\n",
              "ISO_COUNTRY_CODE_x        int64\n",
              "ESTABLISHMENT_TYPE_ID    object\n",
              "MEDICALSPECIALTY         object\n",
              "ISO_COUNTRY_CODE_y       object\n",
              "dtype: object"
            ]
          },
          "metadata": {
            "tags": []
          },
          "execution_count": 57
        }
      ]
    },
    {
      "cell_type": "code",
      "metadata": {
        "id": "HPuJ2Zep0XAk"
      },
      "source": [
        "for col in updated_input_data.columns:\n",
        "    updated_input_data[col] = updated_input_data[col].astype('category')"
      ],
      "execution_count": null,
      "outputs": []
    },
    {
      "cell_type": "code",
      "metadata": {
        "id": "Z8Le0Q2B0qQ8",
        "colab": {
          "base_uri": "https://localhost:8080/",
          "height": 571
        },
        "outputId": "47c57c0d-1811-4857-a9dd-6be5e9e5b33f"
      },
      "source": [
        "updated_input_data.dtypes"
      ],
      "execution_count": null,
      "outputs": [
        {
          "output_type": "execute_result",
          "data": {
            "text/plain": [
              "ISO_COUNTRY_CODE_x    category\n",
              "N                        uint8\n",
              "Y                        uint8\n",
              "CN                       uint8\n",
              "DE                       uint8\n",
              "JP                       uint8\n",
              "KR                       uint8\n",
              "US                       uint8\n",
              "{1, 5}                   uint8\n",
              "{1}                      uint8\n",
              "{2}                      uint8\n",
              "{5}                      uint8\n",
              "{9, 5}                   uint8\n",
              "AN                       uint8\n",
              "CH                       uint8\n",
              "CV                       uint8\n",
              "DE                       uint8\n",
              "EN                       uint8\n",
              "GU                       uint8\n",
              "HE                       uint8\n",
              "HO                       uint8\n",
              "IM                       uint8\n",
              "MI                       uint8\n",
              "NE                       uint8\n",
              "OB                       uint8\n",
              "OP                       uint8\n",
              "OR                       uint8\n",
              "PA                       uint8\n",
              "PM                       uint8\n",
              "RA                       uint8\n",
              "SU                       uint8\n",
              "TX                       uint8\n",
              "dtype: object"
            ]
          },
          "metadata": {
            "tags": []
          },
          "execution_count": 63
        }
      ]
    },
    {
      "cell_type": "code",
      "metadata": {
        "id": "JtPA2Dcu_pNC"
      },
      "source": [
        "def encodeData(df):\n",
        "    int_import_data = pd.get_dummies(df['INITIAL_IMPORTER_FLAG'])\n",
        "    target_countries_data = pd.get_dummies(df['ISO_COUNTRY_CODE_y'])\n",
        "    est_type_data = pd.get_dummies(df['ESTABLISHMENT_TYPE_ID'])\n",
        "    med_spl_data = pd.get_dummies(df['MEDICALSPECIALTY'])\n",
        "    encoded_df = pd.concat([df.drop(['INITIAL_IMPORTER_FLAG', 'ISO_COUNTRY_CODE_y', 'ESTABLISHMENT_TYPE_ID', 'MEDICALSPECIALTY'], axis=1), int_import_data, target_countries_data, est_type_data, med_spl_data], axis=1)\n",
        "    return encoded_df"
      ],
      "execution_count": null,
      "outputs": []
    },
    {
      "cell_type": "code",
      "metadata": {
        "id": "3X5SoAUd9C8C"
      },
      "source": [
        "# prod_code_data = pd.get_dummies(updated_input_data['PRODUCT_CODE'])\n",
        "# prod_code_data"
      ],
      "execution_count": null,
      "outputs": []
    },
    {
      "cell_type": "code",
      "metadata": {
        "id": "gSpozYoFAPMG"
      },
      "source": [
        "# est_type_data = pd.get_dummies(updated_input_data['ESTABLISHMENT_TYPE_ID'])\n",
        "# est_type_data"
      ],
      "execution_count": null,
      "outputs": []
    },
    {
      "cell_type": "code",
      "metadata": {
        "id": "tP_lX2KoBZ8T"
      },
      "source": [
        "# updated_input_data['MEDICALSPECIALTY'].value_counts()"
      ],
      "execution_count": null,
      "outputs": []
    },
    {
      "cell_type": "code",
      "metadata": {
        "id": "qkKaZhlmBtfC"
      },
      "source": [
        "# med_spl_data = pd.get_dummies(updated_input_data['MEDICALSPECIALTY'])\n",
        "# med_spl_data"
      ],
      "execution_count": null,
      "outputs": []
    },
    {
      "cell_type": "code",
      "metadata": {
        "id": "ziFpGpx09MfL"
      },
      "source": [
        "# updated_input_data = pd.concat([updated_input_data.drop(['STATE_CODE', 'PRODUCT_CODE', 'ESTABLISHMENT_TYPE_ID', 'MEDICALSPECIALTY'], axis=1), target_states_data, prod_code_data, est_type_data, med_spl_data], axis=1)\n",
        "# updated_input_data.head()"
      ],
      "execution_count": null,
      "outputs": []
    },
    {
      "cell_type": "code",
      "metadata": {
        "id": "dvsGiGtq_h47",
        "colab": {
          "base_uri": "https://localhost:8080/",
          "height": 34
        },
        "outputId": "47180602-0de4-4fa9-baf4-1ef192a7e144"
      },
      "source": [
        "updated_input_data = encodeData(updated_input_data)\n",
        "updated_input_data.shape"
      ],
      "execution_count": null,
      "outputs": [
        {
          "output_type": "execute_result",
          "data": {
            "text/plain": [
              "(480543, 32)"
            ]
          },
          "metadata": {
            "tags": []
          },
          "execution_count": 61
        }
      ]
    },
    {
      "cell_type": "code",
      "metadata": {
        "id": "KsmYsD35C0Rl",
        "colab": {
          "base_uri": "https://localhost:8080/",
          "height": 232
        },
        "outputId": "0d6bc940-b4bf-4301-9c67-dd461837c463"
      },
      "source": [
        "updated_input_data.head()"
      ],
      "execution_count": null,
      "outputs": [
        {
          "output_type": "execute_result",
          "data": {
            "text/html": [
              "<div>\n",
              "<style scoped>\n",
              "    .dataframe tbody tr th:only-of-type {\n",
              "        vertical-align: middle;\n",
              "    }\n",
              "\n",
              "    .dataframe tbody tr th {\n",
              "        vertical-align: top;\n",
              "    }\n",
              "\n",
              "    .dataframe thead th {\n",
              "        text-align: right;\n",
              "    }\n",
              "</style>\n",
              "<table border=\"1\" class=\"dataframe\">\n",
              "  <thead>\n",
              "    <tr style=\"text-align: right;\">\n",
              "      <th></th>\n",
              "      <th>ISO_COUNTRY_CODE_x</th>\n",
              "      <th>N</th>\n",
              "      <th>Y</th>\n",
              "      <th>CN</th>\n",
              "      <th>DE</th>\n",
              "      <th>JP</th>\n",
              "      <th>KR</th>\n",
              "      <th>US</th>\n",
              "      <th>{1, 5}</th>\n",
              "      <th>{1}</th>\n",
              "      <th>{2}</th>\n",
              "      <th>{5}</th>\n",
              "      <th>{9, 5}</th>\n",
              "      <th>AN</th>\n",
              "      <th>CH</th>\n",
              "      <th>CV</th>\n",
              "      <th>DE</th>\n",
              "      <th>EN</th>\n",
              "      <th>GU</th>\n",
              "      <th>HE</th>\n",
              "      <th>HO</th>\n",
              "      <th>IM</th>\n",
              "      <th>MI</th>\n",
              "      <th>NE</th>\n",
              "      <th>OB</th>\n",
              "      <th>OP</th>\n",
              "      <th>OR</th>\n",
              "      <th>PA</th>\n",
              "      <th>PM</th>\n",
              "      <th>RA</th>\n",
              "      <th>SU</th>\n",
              "      <th>TX</th>\n",
              "    </tr>\n",
              "  </thead>\n",
              "  <tbody>\n",
              "    <tr>\n",
              "      <th>0</th>\n",
              "      <td>0</td>\n",
              "      <td>1</td>\n",
              "      <td>0</td>\n",
              "      <td>0</td>\n",
              "      <td>1</td>\n",
              "      <td>0</td>\n",
              "      <td>0</td>\n",
              "      <td>0</td>\n",
              "      <td>0</td>\n",
              "      <td>0</td>\n",
              "      <td>0</td>\n",
              "      <td>1</td>\n",
              "      <td>0</td>\n",
              "      <td>0</td>\n",
              "      <td>0</td>\n",
              "      <td>0</td>\n",
              "      <td>0</td>\n",
              "      <td>0</td>\n",
              "      <td>0</td>\n",
              "      <td>0</td>\n",
              "      <td>0</td>\n",
              "      <td>0</td>\n",
              "      <td>0</td>\n",
              "      <td>0</td>\n",
              "      <td>0</td>\n",
              "      <td>1</td>\n",
              "      <td>0</td>\n",
              "      <td>0</td>\n",
              "      <td>0</td>\n",
              "      <td>0</td>\n",
              "      <td>0</td>\n",
              "      <td>0</td>\n",
              "    </tr>\n",
              "    <tr>\n",
              "      <th>1</th>\n",
              "      <td>0</td>\n",
              "      <td>1</td>\n",
              "      <td>0</td>\n",
              "      <td>0</td>\n",
              "      <td>1</td>\n",
              "      <td>0</td>\n",
              "      <td>0</td>\n",
              "      <td>0</td>\n",
              "      <td>0</td>\n",
              "      <td>0</td>\n",
              "      <td>0</td>\n",
              "      <td>1</td>\n",
              "      <td>0</td>\n",
              "      <td>0</td>\n",
              "      <td>0</td>\n",
              "      <td>0</td>\n",
              "      <td>0</td>\n",
              "      <td>0</td>\n",
              "      <td>0</td>\n",
              "      <td>0</td>\n",
              "      <td>0</td>\n",
              "      <td>0</td>\n",
              "      <td>0</td>\n",
              "      <td>0</td>\n",
              "      <td>0</td>\n",
              "      <td>1</td>\n",
              "      <td>0</td>\n",
              "      <td>0</td>\n",
              "      <td>0</td>\n",
              "      <td>0</td>\n",
              "      <td>0</td>\n",
              "      <td>0</td>\n",
              "    </tr>\n",
              "    <tr>\n",
              "      <th>2</th>\n",
              "      <td>0</td>\n",
              "      <td>1</td>\n",
              "      <td>0</td>\n",
              "      <td>0</td>\n",
              "      <td>1</td>\n",
              "      <td>0</td>\n",
              "      <td>0</td>\n",
              "      <td>0</td>\n",
              "      <td>0</td>\n",
              "      <td>0</td>\n",
              "      <td>0</td>\n",
              "      <td>1</td>\n",
              "      <td>0</td>\n",
              "      <td>0</td>\n",
              "      <td>0</td>\n",
              "      <td>0</td>\n",
              "      <td>0</td>\n",
              "      <td>0</td>\n",
              "      <td>0</td>\n",
              "      <td>0</td>\n",
              "      <td>0</td>\n",
              "      <td>0</td>\n",
              "      <td>0</td>\n",
              "      <td>0</td>\n",
              "      <td>0</td>\n",
              "      <td>1</td>\n",
              "      <td>0</td>\n",
              "      <td>0</td>\n",
              "      <td>0</td>\n",
              "      <td>0</td>\n",
              "      <td>0</td>\n",
              "      <td>0</td>\n",
              "    </tr>\n",
              "    <tr>\n",
              "      <th>3</th>\n",
              "      <td>0</td>\n",
              "      <td>1</td>\n",
              "      <td>0</td>\n",
              "      <td>0</td>\n",
              "      <td>1</td>\n",
              "      <td>0</td>\n",
              "      <td>0</td>\n",
              "      <td>0</td>\n",
              "      <td>0</td>\n",
              "      <td>0</td>\n",
              "      <td>0</td>\n",
              "      <td>1</td>\n",
              "      <td>0</td>\n",
              "      <td>0</td>\n",
              "      <td>0</td>\n",
              "      <td>0</td>\n",
              "      <td>0</td>\n",
              "      <td>0</td>\n",
              "      <td>0</td>\n",
              "      <td>0</td>\n",
              "      <td>0</td>\n",
              "      <td>0</td>\n",
              "      <td>0</td>\n",
              "      <td>0</td>\n",
              "      <td>0</td>\n",
              "      <td>1</td>\n",
              "      <td>0</td>\n",
              "      <td>0</td>\n",
              "      <td>0</td>\n",
              "      <td>0</td>\n",
              "      <td>0</td>\n",
              "      <td>0</td>\n",
              "    </tr>\n",
              "    <tr>\n",
              "      <th>4</th>\n",
              "      <td>0</td>\n",
              "      <td>1</td>\n",
              "      <td>0</td>\n",
              "      <td>0</td>\n",
              "      <td>1</td>\n",
              "      <td>0</td>\n",
              "      <td>0</td>\n",
              "      <td>0</td>\n",
              "      <td>0</td>\n",
              "      <td>0</td>\n",
              "      <td>0</td>\n",
              "      <td>1</td>\n",
              "      <td>0</td>\n",
              "      <td>0</td>\n",
              "      <td>0</td>\n",
              "      <td>0</td>\n",
              "      <td>0</td>\n",
              "      <td>0</td>\n",
              "      <td>0</td>\n",
              "      <td>0</td>\n",
              "      <td>0</td>\n",
              "      <td>0</td>\n",
              "      <td>0</td>\n",
              "      <td>0</td>\n",
              "      <td>0</td>\n",
              "      <td>1</td>\n",
              "      <td>0</td>\n",
              "      <td>0</td>\n",
              "      <td>0</td>\n",
              "      <td>0</td>\n",
              "      <td>0</td>\n",
              "      <td>0</td>\n",
              "    </tr>\n",
              "  </tbody>\n",
              "</table>\n",
              "</div>"
            ],
            "text/plain": [
              "  ISO_COUNTRY_CODE_x  N  Y  CN  DE  JP  KR  US  ...  OB  OP  OR  PA  PM  RA  SU  TX\n",
              "0                  0  1  0   0   1   0   0   0  ...   0   1   0   0   0   0   0   0\n",
              "1                  0  1  0   0   1   0   0   0  ...   0   1   0   0   0   0   0   0\n",
              "2                  0  1  0   0   1   0   0   0  ...   0   1   0   0   0   0   0   0\n",
              "3                  0  1  0   0   1   0   0   0  ...   0   1   0   0   0   0   0   0\n",
              "4                  0  1  0   0   1   0   0   0  ...   0   1   0   0   0   0   0   0\n",
              "\n",
              "[5 rows x 32 columns]"
            ]
          },
          "metadata": {
            "tags": []
          },
          "execution_count": 62
        }
      ]
    },
    {
      "cell_type": "code",
      "metadata": {
        "id": "BwXmtH1puTXS"
      },
      "source": [
        "y = updated_input_data.iloc[:, 0].values\n",
        "X = updated_input_data.drop(['ISO_COUNTRY_CODE_x'], axis=1).iloc[:,].values"
      ],
      "execution_count": null,
      "outputs": []
    },
    {
      "cell_type": "code",
      "metadata": {
        "id": "hjlzbPkvyf7R",
        "colab": {
          "base_uri": "https://localhost:8080/",
          "height": 134
        },
        "outputId": "f25fe741-dab8-413c-b776-52ab0c4489ac"
      },
      "source": [
        "X"
      ],
      "execution_count": null,
      "outputs": [
        {
          "output_type": "execute_result",
          "data": {
            "text/plain": [
              "array([[1, 0, 0, ..., 0, 0, 0],\n",
              "       [1, 0, 0, ..., 0, 0, 0],\n",
              "       [1, 0, 0, ..., 0, 0, 0],\n",
              "       ...,\n",
              "       [1, 0, 0, ..., 0, 0, 0],\n",
              "       [1, 0, 0, ..., 0, 0, 0],\n",
              "       [1, 0, 0, ..., 0, 0, 0]], dtype=uint8)"
            ]
          },
          "metadata": {
            "tags": []
          },
          "execution_count": 65
        }
      ]
    },
    {
      "cell_type": "code",
      "metadata": {
        "id": "C8oQOo-L0vCG",
        "colab": {
          "base_uri": "https://localhost:8080/",
          "height": 67
        },
        "outputId": "1dd5124e-ba7f-4c0c-f968-7f952a678939"
      },
      "source": [
        "y"
      ],
      "execution_count": null,
      "outputs": [
        {
          "output_type": "execute_result",
          "data": {
            "text/plain": [
              "[0, 0, 0, 0, 0, ..., 0, 0, 0, 0, 0]\n",
              "Length: 480543\n",
              "Categories (2, int64): [0, 1]"
            ]
          },
          "metadata": {
            "tags": []
          },
          "execution_count": 66
        }
      ]
    },
    {
      "cell_type": "markdown",
      "metadata": {
        "id": "QNkIt5OtFvaH"
      },
      "source": [
        "##### Creating train test split"
      ]
    },
    {
      "cell_type": "code",
      "metadata": {
        "id": "Ui06le8HFzJ0"
      },
      "source": [
        "from sklearn.model_selection import train_test_split\n",
        "\n",
        "X_train, X_test, y_train, y_test = train_test_split(X, y, test_size=0.2, stratify=y, random_state=95)"
      ],
      "execution_count": null,
      "outputs": []
    },
    {
      "cell_type": "markdown",
      "metadata": {
        "id": "LMm5N69wl9Uh"
      },
      "source": [
        "### Model Building"
      ]
    },
    {
      "cell_type": "code",
      "metadata": {
        "id": "5861-jfXefdP",
        "colab": {
          "base_uri": "https://localhost:8080/",
          "height": 134
        },
        "outputId": "babdb181-232d-4ea1-ecb8-7816f0e93cac"
      },
      "source": [
        "from xgboost import XGBClassifier\n",
        "\n",
        "xgb_model = XGBClassifier(objective = 'binary:logistic', learning_rate=0.2, n_estimators = 1000, max_delta = None)\n",
        "xgb_model.fit(X_train, y_train)"
      ],
      "execution_count": null,
      "outputs": [
        {
          "output_type": "execute_result",
          "data": {
            "text/plain": [
              "XGBClassifier(base_score=0.5, booster='gbtree', colsample_bylevel=1,\n",
              "              colsample_bynode=1, colsample_bytree=1, gamma=0,\n",
              "              learning_rate=0.2, max_delta=None, max_delta_step=0, max_depth=3,\n",
              "              min_child_weight=1, missing=None, n_estimators=1000, n_jobs=1,\n",
              "              nthread=None, objective='binary:logistic', random_state=0,\n",
              "              reg_alpha=0, reg_lambda=1, scale_pos_weight=1, seed=None,\n",
              "              silent=None, subsample=1, verbosity=1)"
            ]
          },
          "metadata": {
            "tags": []
          },
          "execution_count": 68
        }
      ]
    },
    {
      "cell_type": "code",
      "metadata": {
        "id": "5esLi5byekUA",
        "colab": {
          "base_uri": "https://localhost:8080/",
          "height": 34
        },
        "outputId": "65e5f32b-171c-4f75-eac2-39fe3473267c"
      },
      "source": [
        "from sklearn.metrics import accuracy_score\n",
        "\n",
        "y_predict = xgb_model.predict(X_test)\n",
        "xgb_accuracy = accuracy_score(y_test, y_predict)\n",
        "xgb_accuracy"
      ],
      "execution_count": null,
      "outputs": [
        {
          "output_type": "execute_result",
          "data": {
            "text/plain": [
              "0.9213497175082458"
            ]
          },
          "metadata": {
            "tags": []
          },
          "execution_count": 69
        }
      ]
    }
  ]
}